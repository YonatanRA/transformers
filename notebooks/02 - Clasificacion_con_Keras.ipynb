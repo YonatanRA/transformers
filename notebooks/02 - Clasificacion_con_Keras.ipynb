{
 "cells": [
  {
   "cell_type": "markdown",
   "id": "6698692c",
   "metadata": {},
   "source": [
    "# 02 - Clasificación con Keras"
   ]
  },
  {
   "cell_type": "markdown",
   "id": "42cb2895",
   "metadata": {},
   "source": [
    "Vamos a entrenar un modelo de Keras para clasificar imagenes de ropa.\n",
    "\n",
    "Usaremos el conjunto de datos de [Fashion MNIST](https://github.com/zalandoresearch/fashion-mnist)\n",
    "que contiene mas de 70.000 imagenes en 10 categorias. Las imagenes muestran articulos individuales de ropa a una resolución baja (28x28 pixeles) como se ve en la siguiente imagen:\n",
    "\n",
    "<table>\n",
    "  <tr><td>\n",
    "    <img src=\"https://tensorflow.org/images/fashion-mnist-sprite.png\"\n",
    "         alt=\"Fashion MNIST sprite\"  width=\"600\">\n",
    "  </td></tr>\n",
    "  <tr><td align=\"center\">\n",
    "    <b>Figure 1.</b> <a href=\"https://github.com/zalandoresearch/fashion-mnist\">Fashion-MNIST samples</a> (by Zalando, MIT License).<br/>&nbsp;\n",
    "  </td></tr>\n",
    "</table>\n",
    "\n",
    "Fashion MNIST esta construido como un reemplazo para el conjunto de datos clasico [MNIST](http://yann.lecun.com/exdb/mnist/) \n",
    "casi siempre utilizado como el \"Hola Mundo\" de los sistemas de visión por computadora. El conjunto de datos de MNIST contiene imágenes de dígitos escrito a mano (0, 1, 2, etc.) en un formato idéntico al de los artículos de ropa que vamos a utilizar.\n",
    "\n",
    "\n",
    "Las imagenes son arrays de numpy de 28x28 pixeles, con valores comprendidos entre 0 y 255, los valores de los pixeles. Las etiquetas de integros, que van del 0 al 9. Estos corresponden a la *class* de ropa que la imagen representa.\n",
    "\n",
    "<table>\n",
    "  <tr>\n",
    "    <th>Label</th>\n",
    "    <th>Class</th>\n",
    "  </tr>\n",
    "  <tr>\n",
    "    <td>0</td>\n",
    "    <td>T-shirt/top</td>\n",
    "  </tr>\n",
    "  <tr>\n",
    "    <td>1</td>\n",
    "    <td>Trouser</td>\n",
    "  </tr>\n",
    "    <tr>\n",
    "    <td>2</td>\n",
    "    <td>Pullover</td>\n",
    "  </tr>\n",
    "    <tr>\n",
    "    <td>3</td>\n",
    "    <td>Dress</td>\n",
    "  </tr>\n",
    "    <tr>\n",
    "    <td>4</td>\n",
    "    <td>Coat</td>\n",
    "  </tr>\n",
    "    <tr>\n",
    "    <td>5</td>\n",
    "    <td>Sandal</td>\n",
    "  </tr>\n",
    "    <tr>\n",
    "    <td>6</td>\n",
    "    <td>Shirt</td>\n",
    "  </tr>\n",
    "    <tr>\n",
    "    <td>7</td>\n",
    "    <td>Sneaker</td>\n",
    "  </tr>\n",
    "    <tr>\n",
    "    <td>8</td>\n",
    "    <td>Bag</td>\n",
    "  </tr>\n",
    "    <tr>\n",
    "    <td>9</td>\n",
    "    <td>Ankle boot</td>\n",
    "  </tr>\n",
    "</table>\n",
    "\n",
    "Cada imagen es mapeada a una unica etiqueta. "
   ]
  },
  {
   "cell_type": "code",
   "execution_count": null,
   "id": "323e057c",
   "metadata": {},
   "outputs": [],
   "source": [
    "# librerias\n",
    "\n",
    "import warnings\n",
    "warnings.filterwarnings('ignore')\n",
    "\n",
    "from keras.datasets import fashion_mnist\n",
    "\n",
    "from keras import Sequential, Input\n",
    "from keras.layers import Flatten, Dense\n",
    "\n",
    "import numpy as np\n",
    "\n",
    "import pylab as plt\n",
    "import seaborn as sns\n",
    "\n",
    "from sklearn.metrics import confusion_matrix as cm\n",
    "from sklearn.metrics import classification_report as report"
   ]
  },
  {
   "cell_type": "code",
   "execution_count": null,
   "id": "82898ce2",
   "metadata": {},
   "outputs": [],
   "source": [
    "# etiquetas\n",
    "\n",
    "label_names = {0: 'T-shirt/top', \n",
    "               1: 'Trouser', \n",
    "               2: 'Pullover', \n",
    "               3: 'Dress', \n",
    "               4: 'Coat',\n",
    "               5: 'Sandal', \n",
    "               6: 'Shirt', \n",
    "               7: 'Sneaker', \n",
    "               8: 'Bag', \n",
    "               9: 'Ankle boot'}"
   ]
  },
  {
   "cell_type": "markdown",
   "id": "bb000b83",
   "metadata": {},
   "source": [
    "**Caraga de datos**"
   ]
  },
  {
   "cell_type": "code",
   "execution_count": null,
   "id": "7b05f95c",
   "metadata": {},
   "outputs": [],
   "source": [
    "(X_train, y_train), (X_test, y_test) = fashion_mnist.load_data()"
   ]
  },
  {
   "cell_type": "code",
   "execution_count": null,
   "id": "f2b4733e",
   "metadata": {},
   "outputs": [],
   "source": [
    "# 60k imagenes de 28x28 pixeles para entrenar y 10k para testear con sus etiquetas\n",
    "\n",
    "X_train.shape, X_test.shape, y_train.shape, y_test.shape"
   ]
  },
  {
   "cell_type": "markdown",
   "id": "73acb0b7",
   "metadata": {},
   "source": [
    "### Exploración de los datos"
   ]
  },
  {
   "cell_type": "code",
   "execution_count": null,
   "id": "0f47d2e3",
   "metadata": {},
   "outputs": [],
   "source": [
    "# valores entre 0 y 255\n",
    "\n",
    "plt.imshow(X_train[29000])\n",
    "plt.colorbar();"
   ]
  },
  {
   "cell_type": "markdown",
   "id": "3df4b86b",
   "metadata": {},
   "source": [
    "Los datos de entrada en una red neuronal tienen que ser normalizados. En este caso, dividir entre el máximo (255)"
   ]
  },
  {
   "cell_type": "code",
   "execution_count": null,
   "id": "e6ac2525",
   "metadata": {},
   "outputs": [],
   "source": [
    "X_train = X_train/255.\n",
    "\n",
    "X_test = X_test/255."
   ]
  },
  {
   "cell_type": "markdown",
   "id": "0cb887e5",
   "metadata": {},
   "source": [
    "Para verificar que el conjunto de datos esta en el formato adecuado y que estan listos para construir y entrenar la red, vamos a ver las primeras 25 imagenes con su nombre."
   ]
  },
  {
   "cell_type": "code",
   "execution_count": null,
   "id": "4a637b1e",
   "metadata": {},
   "outputs": [],
   "source": [
    "plt.figure(figsize=(10,10))  # figura 100x100\n",
    "\n",
    "\n",
    "for i in range(25):   # 25 imagenes\n",
    "    \n",
    "    plt.subplot(5,5,i+1)\n",
    "    \n",
    "    plt.xticks([])\n",
    "    plt.yticks([])\n",
    "    \n",
    "    plt.grid(False)\n",
    "    \n",
    "    plt.imshow(X_train[i], cmap=plt.cm.binary)\n",
    "    \n",
    "    plt.xlabel(label_names[y_train[i]])\n",
    "     \n",
    "    \n",
    "plt.show();"
   ]
  },
  {
   "cell_type": "markdown",
   "id": "f4de5616",
   "metadata": {},
   "source": [
    "### Modelo\n",
    "\n",
    "Construir la red neuronal requiere configurar las capas del modelo y luego compilar el modelo. \n",
    "\n",
    "Los bloques de construccion básicos de una red neuronal son las *capas*. La función de las capas es extraer la características fundamentales de las imágenes para poder luego clasificarlas. La mayoria de las capas como `Dense`, tienen parametros que son aprendidos durante el entrenamiento.\n",
    "\n",
    "La primera capa de esta red, `Flatten`, \n",
    "transforma el formato de las imágenes de un array bidimensional (28x28 pixeles) a un array unidimensional (28x28 pixeles = 784 pixeles). Se le llama \"aplanado\" porque pasamos de una matriz de 28x28 a un vector de 784 elemento.\n",
    "\n",
    "Después de que los pixeles sean \"aplanados\", la secuencia consiste de dos capas `Dense`. También se llama a estas capa `Full connected`, pues está todo conectado con todo. La primera capa `Dense` tiene 128 nodos o neuronas. La segunda capa es una capa de 10 nodos *softmax* (regresión logística) que devuelve un array de 10 probabilidades que suman a 1. Cada nodo contiene una calificacion que indica la probabilidad que la actual imagen pertenece a una de las 10 clases."
   ]
  },
  {
   "cell_type": "code",
   "execution_count": null,
   "id": "41095f4c",
   "metadata": {},
   "outputs": [],
   "source": [
    "model = Sequential()\n",
    "\n",
    "model.add(Flatten(input_shape=(28, 28)))\n",
    "\n",
    "model.add(Dense(128, activation='relu'))\n",
    "\n",
    "model.add(Dense(10, activation='softmax'))"
   ]
  },
  {
   "cell_type": "markdown",
   "id": "0dae2bba",
   "metadata": {},
   "source": [
    "Antes de que el modelo este listo para entrenar, se necesitan algunas configuraciones más. Estas son agregadas durante el paso de compilación del modelo:\n",
    "\n",
    "* *Loss function* — Función de coste o pérdida. Funcióin a minimizar para el ajuste.\n",
    "\n",
    "* *Optimizer* — Algoritmo de optimización.\n",
    "\n",
    "* *Metrics* — Métrica para el ajuste.\n",
    "\n",
    "El siguiente ejemplo usa *accuracy* (acierto) , la proporción de imágenes que son correctamente clasificadas."
   ]
  },
  {
   "cell_type": "code",
   "execution_count": null,
   "id": "d7665831",
   "metadata": {},
   "outputs": [],
   "source": [
    "model.compile(optimizer='adam',\n",
    "              loss='sparse_categorical_crossentropy',\n",
    "              metrics=['accuracy'])"
   ]
  },
  {
   "cell_type": "code",
   "execution_count": null,
   "id": "fb35632a",
   "metadata": {},
   "outputs": [],
   "source": [
    "model.summary()"
   ]
  },
  {
   "cell_type": "markdown",
   "id": "d534aa20",
   "metadata": {},
   "source": [
    "### Entrenamiento"
   ]
  },
  {
   "cell_type": "code",
   "execution_count": null,
   "id": "9200a902",
   "metadata": {},
   "outputs": [],
   "source": [
    "model.fit(X_train, y_train, epochs=10)"
   ]
  },
  {
   "cell_type": "markdown",
   "id": "8aea35dd",
   "metadata": {},
   "source": [
    "### Evaluación y predicción"
   ]
  },
  {
   "cell_type": "code",
   "execution_count": null,
   "id": "eeb226a4",
   "metadata": {},
   "outputs": [],
   "source": [
    "test_loss, test_acc = model.evaluate(X_test,  y_test, verbose=2)\n",
    "\n",
    "print('\\nTest accuracy:', test_acc)"
   ]
  },
  {
   "cell_type": "code",
   "execution_count": null,
   "id": "9ada2916",
   "metadata": {},
   "outputs": [],
   "source": [
    "y_prob = model.predict(X_test)"
   ]
  },
  {
   "cell_type": "code",
   "execution_count": null,
   "id": "8c70bc23",
   "metadata": {},
   "outputs": [],
   "source": [
    "y_prob[0]"
   ]
  },
  {
   "cell_type": "code",
   "execution_count": null,
   "id": "7d744820",
   "metadata": {},
   "outputs": [],
   "source": [
    "plt.bar(label_names.values() ,y_prob[600])\n",
    "plt.xticks(rotation=45);"
   ]
  },
  {
   "cell_type": "code",
   "execution_count": null,
   "id": "49122373",
   "metadata": {},
   "outputs": [],
   "source": [
    "sum(y_prob[10])"
   ]
  },
  {
   "cell_type": "code",
   "execution_count": null,
   "id": "dfd119d8",
   "metadata": {},
   "outputs": [],
   "source": [
    "np.argmax(y_prob[0])"
   ]
  },
  {
   "cell_type": "code",
   "execution_count": null,
   "id": "d4ce4b9a",
   "metadata": {},
   "outputs": [],
   "source": [
    "label_names[np.argmax(y_prob[0])]"
   ]
  },
  {
   "cell_type": "code",
   "execution_count": null,
   "id": "303cb2f0",
   "metadata": {},
   "outputs": [],
   "source": [
    "y_pred = np.argmax(y_prob, axis=1)\n",
    "\n",
    "y_pred"
   ]
  },
  {
   "cell_type": "code",
   "execution_count": null,
   "id": "b16e542c",
   "metadata": {},
   "outputs": [],
   "source": [
    "y_test"
   ]
  },
  {
   "cell_type": "code",
   "execution_count": null,
   "id": "196039fd",
   "metadata": {},
   "outputs": [],
   "source": [
    "print(report(y_test, y_pred))"
   ]
  },
  {
   "cell_type": "code",
   "execution_count": null,
   "id": "acd8b228",
   "metadata": {},
   "outputs": [],
   "source": [
    "plt.figure(figsize=(15, 8))\n",
    "\n",
    "ax=sns.heatmap(cm(y_test, y_pred)/cm(y_test, y_pred).sum(), annot=True)\n",
    "\n",
    "plt.title('Matriz confusion')\n",
    "plt.ylabel('Verdad')\n",
    "plt.xlabel('Prediccion')\n",
    "plt.show();"
   ]
  },
  {
   "cell_type": "code",
   "execution_count": null,
   "id": "f752e31a",
   "metadata": {},
   "outputs": [],
   "source": [
    "label_names"
   ]
  },
  {
   "cell_type": "markdown",
   "id": "106bed4b",
   "metadata": {},
   "source": [
    "### Guardado y carga del modelo"
   ]
  },
  {
   "cell_type": "code",
   "execution_count": null,
   "id": "407abe1b",
   "metadata": {},
   "outputs": [],
   "source": [
    "model.save_weights('model/MNIST_weights.h5')    # pesos de la red"
   ]
  },
  {
   "cell_type": "code",
   "execution_count": null,
   "id": "59dafaa2",
   "metadata": {},
   "outputs": [],
   "source": [
    "model.load_weights('model/MNIST_weights.h5')"
   ]
  },
  {
   "cell_type": "code",
   "execution_count": null,
   "id": "8dd551ed",
   "metadata": {},
   "outputs": [],
   "source": [
    "model.save('model/MNIST_Model.h5')              # modelo completo"
   ]
  },
  {
   "cell_type": "code",
   "execution_count": null,
   "id": "87f2f425",
   "metadata": {},
   "outputs": [],
   "source": [
    "from keras.models import load_model"
   ]
  },
  {
   "cell_type": "code",
   "execution_count": null,
   "id": "3bf0bc50",
   "metadata": {},
   "outputs": [],
   "source": [
    "modelo_nuevo = load_model('model/MNIST_Model.h5')"
   ]
  },
  {
   "cell_type": "code",
   "execution_count": null,
   "id": "61fe7472",
   "metadata": {},
   "outputs": [],
   "source": [
    "modelo_nuevo.predict(X_test)[0]"
   ]
  },
  {
   "cell_type": "code",
   "execution_count": null,
   "id": "19f59dd7",
   "metadata": {},
   "outputs": [],
   "source": []
  },
  {
   "cell_type": "code",
   "execution_count": null,
   "id": "82947db6",
   "metadata": {},
   "outputs": [],
   "source": []
  }
 ],
 "metadata": {
  "kernelspec": {
   "display_name": "virtual",
   "language": "python",
   "name": "virtual"
  },
  "language_info": {
   "codemirror_mode": {
    "name": "ipython",
    "version": 3
   },
   "file_extension": ".py",
   "mimetype": "text/x-python",
   "name": "python",
   "nbconvert_exporter": "python",
   "pygments_lexer": "ipython3",
   "version": "3.10.8"
  }
 },
 "nbformat": 4,
 "nbformat_minor": 5
}
