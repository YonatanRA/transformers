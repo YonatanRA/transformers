{
 "cells": [
  {
   "cell_type": "markdown",
   "id": "9a852334",
   "metadata": {},
   "source": [
    "# 10 - ZeroScope (texto a video)\n",
    "\n",
    "\n",
    "![hugging_face](../images/hugging_face.png)\n",
    "\n",
    "\n",
    "https://huggingface.co/cerspense/zeroscope_v2_576w\n"
   ]
  },
  {
   "cell_type": "code",
   "execution_count": null,
   "id": "0c2cc226",
   "metadata": {},
   "outputs": [],
   "source": [
    "# librerias\n",
    "\n",
    "import torch\n",
    "\n",
    "from diffusers import DiffusionPipeline, DPMSolverMultistepScheduler\n",
    "\n",
    "from diffusers.utils import export_to_video"
   ]
  },
  {
   "cell_type": "code",
   "execution_count": null,
   "id": "cc686510",
   "metadata": {},
   "outputs": [],
   "source": [
    "# pipeline de Diffusion desde modelo preentrenado\n",
    "\n",
    "pipe = DiffusionPipeline.from_pretrained('cerspense/zeroscope_v2_576w', torch_dtype=torch.float32)\n",
    "\n",
    "pipe.scheduler = DPMSolverMultistepScheduler.from_config(pipe.scheduler.config)\n",
    "\n",
    "pipe.enable_model_cpu_offload()"
   ]
  },
  {
   "cell_type": "code",
   "execution_count": null,
   "id": "e2574258",
   "metadata": {},
   "outputs": [],
   "source": [
    "# texto de entrada\n",
    "\n",
    "prompt = 'Darth Vader is surfing on waves'"
   ]
  },
  {
   "cell_type": "code",
   "execution_count": null,
   "id": "7058caa2",
   "metadata": {},
   "outputs": [],
   "source": [
    "%%time\n",
    "\n",
    "# ejecucion del modelo y guardado\n",
    "\n",
    "video_frames = pipe(prompt, \n",
    "                    num_inference_steps=40, \n",
    "                    height=320, \n",
    "                    width=576, \n",
    "                    num_frames=24).frames\n",
    "\n",
    "video_path = export_to_video(video_frames)"
   ]
  },
  {
   "cell_type": "code",
   "execution_count": null,
   "id": "ac73d936",
   "metadata": {},
   "outputs": [],
   "source": []
  }
 ],
 "metadata": {
  "kernelspec": {
   "display_name": "virtual",
   "language": "python",
   "name": "virtual"
  },
  "language_info": {
   "codemirror_mode": {
    "name": "ipython",
    "version": 3
   },
   "file_extension": ".py",
   "mimetype": "text/x-python",
   "name": "python",
   "nbconvert_exporter": "python",
   "pygments_lexer": "ipython3",
   "version": "3.10.8"
  }
 },
 "nbformat": 4,
 "nbformat_minor": 5
}
