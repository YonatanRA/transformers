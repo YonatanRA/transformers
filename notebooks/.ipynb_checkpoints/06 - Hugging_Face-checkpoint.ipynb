{
 "cells": [
  {
   "cell_type": "markdown",
   "id": "d3d3120c",
   "metadata": {},
   "source": [
    "# 06 - Hugging Face\n",
    "\n",
    "\n",
    "![hugging_face](../images/hugging_face.png)\n",
    "\n",
    "\n",
    "https://huggingface.co/\n",
    "\n",
    "\n",
    "El hub de hugging face es una plataforma central donde cualquiera puede compartir y explorar modelos, datasets y demos de ML. El problema de “resolver la IA” no lo resolverá una sola empresa, sino una cultura de intercambio de conocimientos y recursos. Debido a esto, el hub tiene como objetivo crear la colección más extensa de modelos, datasets y demos de código abierto.\n",
    "\n",
    "Aquí hay algunos datos sobre el Hub de Hugging Face:\n",
    "\n",
    "+ Hay más de 30,000 modelos públicos.\n",
    "\n",
    "+ Hay modelos para el procesamiento del lenguaje natural, la visión artificial, el audio/habla y el aprendizaje por refuerzo...\n",
    "\n",
    "+ Hay modelos para más de 180 idiomas. El Español es uno de los lenguajes más presentes.\n",
    "\n",
    "+ Cualquier biblioteca de ML puede aprovechar el hub: desde TensorFlow y PyTorch hasta integraciones avanzadas con spaCy, SpeechBrain, Keras y otras 20 bibliotecas.\n",
    "\n",
    "\n",
    "En Hugging Face todo se basa en repositorios de Git y es de código abierto. Puede hacer clic en la pestaña “Files and Versions” que le permitirá ver todos los archivos del repositorio incluidos los pesos del modelo."
   ]
  },
  {
   "cell_type": "code",
   "execution_count": null,
   "id": "4433d278",
   "metadata": {},
   "outputs": [],
   "source": []
  }
 ],
 "metadata": {
  "kernelspec": {
   "display_name": "virtual",
   "language": "python",
   "name": "virtual"
  },
  "language_info": {
   "codemirror_mode": {
    "name": "ipython",
    "version": 3
   },
   "file_extension": ".py",
   "mimetype": "text/x-python",
   "name": "python",
   "nbconvert_exporter": "python",
   "pygments_lexer": "ipython3",
   "version": "3.10.8"
  }
 },
 "nbformat": 4,
 "nbformat_minor": 5
}
