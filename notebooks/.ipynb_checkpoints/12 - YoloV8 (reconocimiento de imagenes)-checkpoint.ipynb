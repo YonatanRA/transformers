{
 "cells": [
  {
   "cell_type": "markdown",
   "id": "84d4c603",
   "metadata": {},
   "source": [
    "# 12 - YoloV8 (reconocimiento de imagenes)\n",
    "\n",
    "\n",
    "![hugging_face](../images/hugging_face.png)\n",
    "\n",
    "\n",
    "https://huggingface.co/ultralyticsplus/yolov8s"
   ]
  },
  {
   "cell_type": "code",
   "execution_count": null,
   "id": "c5c81929",
   "metadata": {},
   "outputs": [],
   "source": [
    "# librerias\n",
    "\n",
    "from ultralyticsplus import YOLO, render_result"
   ]
  },
  {
   "cell_type": "code",
   "execution_count": null,
   "id": "aaec4db3",
   "metadata": {},
   "outputs": [],
   "source": [
    "# carga del modelo YoloV8\n",
    "\n",
    "model = YOLO('ultralyticsplus/yolov8s')"
   ]
  },
  {
   "cell_type": "code",
   "execution_count": null,
   "id": "4633c4c5",
   "metadata": {},
   "outputs": [],
   "source": [
    "# parametros del modelo\n",
    "\n",
    "model.overrides['conf'] = 0.25  # NMS umbral de confianza\n",
    "\n",
    "model.overrides['iou'] = 0.45  # NMS umbral IoU \n",
    "\n",
    "model.overrides['agnostic_nms'] = False  # NMS class-agnostic\n",
    "\n",
    "model.overrides['max_det'] = 1000  # maximo numero de detecciones por imagen"
   ]
  },
  {
   "cell_type": "code",
   "execution_count": null,
   "id": "62eb825e",
   "metadata": {},
   "outputs": [],
   "source": [
    "# ruta a imagen\n",
    "\n",
    "image = 'https://github.com/ultralytics/yolov5/raw/master/data/images/zidane.jpg'"
   ]
  },
  {
   "cell_type": "code",
   "execution_count": null,
   "id": "b09b01b6",
   "metadata": {},
   "outputs": [],
   "source": [
    "# inferencia\n",
    "\n",
    "results = model.predict(image)"
   ]
  },
  {
   "cell_type": "code",
   "execution_count": null,
   "id": "8bf9be87",
   "metadata": {},
   "outputs": [],
   "source": [
    "# resultados (cajas de reconocimiento)\n",
    "\n",
    "print(results[0].boxes)\n",
    "\n",
    "render = render_result(model=model, \n",
    "                       image=image, \n",
    "                       result=results[0])\n",
    "\n",
    "render.show()"
   ]
  }
 ],
 "metadata": {
  "kernelspec": {
   "display_name": "virtual",
   "language": "python",
   "name": "virtual"
  },
  "language_info": {
   "codemirror_mode": {
    "name": "ipython",
    "version": 3
   },
   "file_extension": ".py",
   "mimetype": "text/x-python",
   "name": "python",
   "nbconvert_exporter": "python",
   "pygments_lexer": "ipython3",
   "version": "3.10.8"
  }
 },
 "nbformat": 4,
 "nbformat_minor": 5
}
