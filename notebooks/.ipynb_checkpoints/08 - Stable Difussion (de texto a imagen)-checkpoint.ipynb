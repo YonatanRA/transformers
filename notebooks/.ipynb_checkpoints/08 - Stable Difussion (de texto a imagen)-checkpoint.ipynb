{
 "cells": [
  {
   "cell_type": "markdown",
   "id": "2658f313",
   "metadata": {},
   "source": [
    "# 08 - Stable Difussion (de texto a imagen)\n",
    "\n",
    "![hugging_face](../images/hugging_face.png)\n",
    "\n",
    "\n",
    "https://huggingface.co/dreamlike-art/dreamlike-photoreal-2.0\n",
    "\n",
    "https://huggingface.co/runwayml/stable-diffusion-v1-5\n",
    "\n",
    "https://huggingface.co/stabilityai/stable-diffusion-2-1\n"
   ]
  },
  {
   "cell_type": "code",
   "execution_count": null,
   "id": "9e96f712",
   "metadata": {},
   "outputs": [],
   "source": [
    "#librerias\n",
    "\n",
    "import torch\n",
    "\n",
    "from diffusers import StableDiffusionPipeline, DPMSolverMultistepScheduler"
   ]
  },
  {
   "cell_type": "code",
   "execution_count": null,
   "id": "db3d520b",
   "metadata": {},
   "outputs": [],
   "source": [
    "#modelos\n",
    "\n",
    "model_id = 'dreamlike-art/dreamlike-photoreal-2.0'\n",
    "\n",
    "model_id = 'runwayml/stable-diffusion-v1-5'\n",
    "\n",
    "model_id = 'stabilityai/stable-diffusion-2-1'"
   ]
  },
  {
   "cell_type": "code",
   "execution_count": null,
   "id": "026551b4",
   "metadata": {},
   "outputs": [],
   "source": [
    "# pipeline de StableDiffusion\n",
    "\n",
    "pipe = StableDiffusionPipeline.from_pretrained(model_id, torch_dtype=torch.float32)\n",
    "\n",
    "pipe.scheduler = DPMSolverMultistepScheduler.from_config(pipe.scheduler.config)"
   ]
  },
  {
   "cell_type": "code",
   "execution_count": null,
   "id": "814a0a73",
   "metadata": {},
   "outputs": [],
   "source": [
    "# usar si se dispone de cuda (NVIDIA)\n",
    "\n",
    "pipe = pipe.to('cuda')"
   ]
  },
  {
   "cell_type": "code",
   "execution_count": null,
   "id": "862f5cf7",
   "metadata": {},
   "outputs": [],
   "source": [
    "# texto de entrada\n",
    "\n",
    "prompt = 'a photo of an astronaut riding a horse on mars'"
   ]
  },
  {
   "cell_type": "code",
   "execution_count": null,
   "id": "e1a3fac4",
   "metadata": {},
   "outputs": [],
   "source": [
    "%%time\n",
    "\n",
    "# ejecucion del modelo y guardado\n",
    "\n",
    "image = pipe(prompt).images[0]\n",
    "    \n",
    "image.save('../images/astronaut_rides_horse.png')"
   ]
  },
  {
   "cell_type": "code",
   "execution_count": null,
   "id": "9781a86a",
   "metadata": {},
   "outputs": [],
   "source": []
  }
 ],
 "metadata": {
  "kernelspec": {
   "display_name": "virtual",
   "language": "python",
   "name": "virtual"
  },
  "language_info": {
   "codemirror_mode": {
    "name": "ipython",
    "version": 3
   },
   "file_extension": ".py",
   "mimetype": "text/x-python",
   "name": "python",
   "nbconvert_exporter": "python",
   "pygments_lexer": "ipython3",
   "version": "3.10.8"
  }
 },
 "nbformat": 4,
 "nbformat_minor": 5
}
