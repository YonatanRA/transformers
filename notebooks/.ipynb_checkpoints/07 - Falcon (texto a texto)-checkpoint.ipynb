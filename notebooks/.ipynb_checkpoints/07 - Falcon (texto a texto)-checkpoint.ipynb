{
 "cells": [
  {
   "cell_type": "markdown",
   "id": "7d6bcd95",
   "metadata": {},
   "source": [
    "# 07 - Falcon (texto a texto)\n",
    "\n",
    "![hugging_face](../images/hugging_face.png)\n",
    "\n",
    "\n",
    "https://huggingface.co/tiiuae/falcon-7b\n",
    "\n",
    "https://huggingface.co/tiiuae/falcon-40b\n"
   ]
  },
  {
   "cell_type": "code",
   "execution_count": null,
   "id": "8c3730ef",
   "metadata": {},
   "outputs": [],
   "source": [
    "#librerias\n",
    "\n",
    "import torch\n",
    "\n",
    "import transformers\n",
    "\n",
    "from transformers import AutoTokenizer, AutoModelForCausalLM"
   ]
  },
  {
   "cell_type": "code",
   "execution_count": null,
   "id": "8f53eeba",
   "metadata": {},
   "outputs": [],
   "source": [
    "# modelos de tiiuae\n",
    "\n",
    "model = 'tiiuae/falcon-7b'   # modelo pequeño\n",
    "\n",
    "model = 'tiiuae/falcon-40b'  # modelo grande "
   ]
  },
  {
   "cell_type": "code",
   "execution_count": null,
   "id": "6f2708d4",
   "metadata": {},
   "outputs": [],
   "source": [
    "# tokenizador desde modelo preentrenado\n",
    "\n",
    "tokenizer = AutoTokenizer.from_pretrained(model)"
   ]
  },
  {
   "cell_type": "code",
   "execution_count": null,
   "id": "9e50777f",
   "metadata": {},
   "outputs": [],
   "source": [
    "# pipeline de transformers para generacion de texto\n",
    "\n",
    "pipeline = transformers.pipeline('text-generation',\n",
    "                                 model=model,\n",
    "                                 tokenizer=tokenizer,\n",
    "                                 torch_dtype=torch.bfloat32,\n",
    "                                 trust_remote_code=True,\n",
    "                                 device_map='auto'\n",
    "                                )\n"
   ]
  },
  {
   "cell_type": "code",
   "execution_count": null,
   "id": "ffc6bb90",
   "metadata": {},
   "outputs": [],
   "source": [
    "# texto de entrada\n",
    "\n",
    "prompt = ''' Girafatron is obsessed with giraffes, \n",
    "             the most glorious animal on the face of this Earth. \n",
    "             Girafatron believes all other animals are irrelevant \n",
    "             when compared to the glorious majesty of the giraffe.\n",
    "             \n",
    "             Daniel: Hello, Girafatron!\n",
    "             \n",
    "             Girafatron:\n",
    "         '''"
   ]
  },
  {
   "cell_type": "code",
   "execution_count": null,
   "id": "430de92b",
   "metadata": {},
   "outputs": [],
   "source": [
    "%%time\n",
    "\n",
    "# se ejecuta el pipeline para devolver una respuesta\n",
    "\n",
    "sequences = pipeline(prompt,    \n",
    "                     max_length=200,\n",
    "                     do_sample=True,\n",
    "                     top_k=10,\n",
    "                     num_return_sequences=1,\n",
    "                     eos_token_id=tokenizer.eos_token_id,\n",
    "                    )\n"
   ]
  },
  {
   "cell_type": "code",
   "execution_count": null,
   "id": "41aef6f8",
   "metadata": {},
   "outputs": [],
   "source": [
    "# respuesta\n",
    "\n",
    "for seq in sequences:\n",
    "    print(f\"Result: {seq['generated_text']}\")"
   ]
  },
  {
   "cell_type": "code",
   "execution_count": null,
   "id": "5d35f60c",
   "metadata": {},
   "outputs": [],
   "source": []
  }
 ],
 "metadata": {
  "kernelspec": {
   "display_name": "virtual",
   "language": "python",
   "name": "virtual"
  },
  "language_info": {
   "codemirror_mode": {
    "name": "ipython",
    "version": 3
   },
   "file_extension": ".py",
   "mimetype": "text/x-python",
   "name": "python",
   "nbconvert_exporter": "python",
   "pygments_lexer": "ipython3",
   "version": "3.10.8"
  }
 },
 "nbformat": 4,
 "nbformat_minor": 5
}
