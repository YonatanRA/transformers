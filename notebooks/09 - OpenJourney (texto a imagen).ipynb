{
 "cells": [
  {
   "cell_type": "markdown",
   "id": "1804ba83",
   "metadata": {},
   "source": [
    "# 09 - OpenJourney (texto a imagen)\n",
    "\n",
    "\n",
    "![hugging_face](../images/hugging_face.png)\n",
    "\n",
    "\n",
    "https://huggingface.co/prompthero/openjourney\n"
   ]
  },
  {
   "cell_type": "code",
   "execution_count": null,
   "id": "3ce0809e",
   "metadata": {},
   "outputs": [],
   "source": [
    "# librerias\n",
    "\n",
    "import torch\n",
    "\n",
    "from diffusers import StableDiffusionPipeline"
   ]
  },
  {
   "cell_type": "code",
   "execution_count": null,
   "id": "3ba12072",
   "metadata": {},
   "outputs": [],
   "source": [
    "# modelo\n",
    "\n",
    "model_id = 'prompthero/openjourney'"
   ]
  },
  {
   "cell_type": "code",
   "execution_count": null,
   "id": "099b71c2",
   "metadata": {},
   "outputs": [],
   "source": [
    "# pipeline de StableDiffusion\n",
    "\n",
    "pipe = StableDiffusionPipeline.from_pretrained(model_id, torch_dtype=torch.float32)"
   ]
  },
  {
   "cell_type": "code",
   "execution_count": null,
   "id": "48c0e85e",
   "metadata": {},
   "outputs": [],
   "source": [
    "# usar si se dispone de cuda (NVIDIA)\n",
    "\n",
    "pipe = pipe.to('cuda')"
   ]
  },
  {
   "cell_type": "code",
   "execution_count": null,
   "id": "f6f87561",
   "metadata": {},
   "outputs": [],
   "source": [
    "# texto de entrada\n",
    "\n",
    "prompt = 'retro serie of different cars with different colors and shapes, mdjrny-v4 style'"
   ]
  },
  {
   "cell_type": "code",
   "execution_count": null,
   "id": "828185a8",
   "metadata": {},
   "outputs": [],
   "source": [
    "%%time\n",
    "\n",
    "# ejecucion del modelo y guardado\n",
    "\n",
    "image = pipe(prompt).images[0]\n",
    "\n",
    "image.save('../images/retro_cars.png')"
   ]
  },
  {
   "cell_type": "code",
   "execution_count": null,
   "id": "367e9521",
   "metadata": {},
   "outputs": [],
   "source": []
  }
 ],
 "metadata": {
  "kernelspec": {
   "display_name": "virtual",
   "language": "python",
   "name": "virtual"
  },
  "language_info": {
   "codemirror_mode": {
    "name": "ipython",
    "version": 3
   },
   "file_extension": ".py",
   "mimetype": "text/x-python",
   "name": "python",
   "nbconvert_exporter": "python",
   "pygments_lexer": "ipython3",
   "version": "3.10.8"
  }
 },
 "nbformat": 4,
 "nbformat_minor": 5
}
