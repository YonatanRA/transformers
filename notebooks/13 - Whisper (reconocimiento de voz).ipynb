{
 "cells": [
  {
   "cell_type": "markdown",
   "id": "55d25c8c",
   "metadata": {},
   "source": [
    "# 13 - Whisper (reconocimiento de voz)\n",
    "\n",
    "\n",
    "![hugging_face](../images/hugging_face.png)\n",
    "\n",
    "\n",
    "https://huggingface.co/openai/whisper-large-v2\n"
   ]
  },
  {
   "cell_type": "code",
   "execution_count": null,
   "id": "02bbbbf5",
   "metadata": {},
   "outputs": [],
   "source": [
    "# librerias\n",
    "\n",
    "from datasets import load_dataset\n",
    "\n",
    "from transformers import WhisperProcessor, WhisperForConditionalGeneration"
   ]
  },
  {
   "cell_type": "code",
   "execution_count": null,
   "id": "b28fcfec",
   "metadata": {},
   "outputs": [],
   "source": [
    "# procesador Whisper desde modelo preentrenado\n",
    "\n",
    "processor = WhisperProcessor.from_pretrained('openai/whisper-large-v2')"
   ]
  },
  {
   "cell_type": "code",
   "execution_count": null,
   "id": "c962f154",
   "metadata": {},
   "outputs": [],
   "source": [
    "# modelo preentrenado\n",
    "\n",
    "model = WhisperForConditionalGeneration.from_pretrained('openai/whisper-large-v2')\n",
    "\n",
    "model.config.forced_decoder_ids = None"
   ]
  },
  {
   "cell_type": "code",
   "execution_count": null,
   "id": "d3f30450",
   "metadata": {},
   "outputs": [],
   "source": [
    "# carga de datos y lectura archivos de audio\n",
    "\n",
    "ds = load_dataset('hf-internal-testing/librispeech_asr_dummy', \n",
    "                  'clean', \n",
    "                  split='validation')\n",
    "\n",
    "sample = ds[0]['audio']\n",
    "\n",
    "input_features = processor(sample['array'], \n",
    "                           sampling_rate=sample['sampling_rate'], \n",
    "                           return_tensors='pt').input_features "
   ]
  },
  {
   "cell_type": "code",
   "execution_count": null,
   "id": "06ac0fb7",
   "metadata": {},
   "outputs": [],
   "source": [
    "# generar token ids\n",
    "\n",
    "predicted_ids = model.generate(input_features)"
   ]
  },
  {
   "cell_type": "code",
   "execution_count": null,
   "id": "71e17006",
   "metadata": {},
   "outputs": [],
   "source": [
    "# decodificar token ids a texto\n",
    "\n",
    "transcription = processor.batch_decode(predicted_ids, skip_special_tokens=False)"
   ]
  },
  {
   "cell_type": "code",
   "execution_count": null,
   "id": "ee4c423f",
   "metadata": {},
   "outputs": [],
   "source": []
  }
 ],
 "metadata": {
  "kernelspec": {
   "display_name": "virtual",
   "language": "python",
   "name": "virtual"
  },
  "language_info": {
   "codemirror_mode": {
    "name": "ipython",
    "version": 3
   },
   "file_extension": ".py",
   "mimetype": "text/x-python",
   "name": "python",
   "nbconvert_exporter": "python",
   "pygments_lexer": "ipython3",
   "version": "3.10.8"
  }
 },
 "nbformat": 4,
 "nbformat_minor": 5
}
