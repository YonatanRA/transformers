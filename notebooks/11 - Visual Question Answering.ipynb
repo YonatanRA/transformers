{
 "cells": [
  {
   "cell_type": "markdown",
   "id": "14c78715",
   "metadata": {},
   "source": [
    "# 11 - Visual Question Answering\n",
    "\n",
    "![hugging_face](../images/hugging_face.png)\n",
    "\n",
    "\n",
    "https://huggingface.co/dandelin/vilt-b32-finetuned-vqa\n"
   ]
  },
  {
   "cell_type": "code",
   "execution_count": null,
   "id": "9a08e555",
   "metadata": {},
   "outputs": [],
   "source": [
    "# librerias\n",
    "\n",
    "import requests\n",
    "from PIL import Image\n",
    "\n",
    "from transformers import ViltProcessor, ViltForQuestionAnswering"
   ]
  },
  {
   "cell_type": "code",
   "execution_count": null,
   "id": "fb9ff1f0",
   "metadata": {},
   "outputs": [],
   "source": [
    "# prepara la imagen\n",
    "\n",
    "url = 'http://images.cocodataset.org/val2017/000000039769.jpg'\n",
    "\n",
    "image = Image.open(requests.get(url, stream=True).raw)"
   ]
  },
  {
   "cell_type": "code",
   "execution_count": null,
   "id": "b0de5df5",
   "metadata": {},
   "outputs": [],
   "source": [
    "# pregunta sobre la imagen\n",
    "\n",
    "question = 'How many cats are there?'"
   ]
  },
  {
   "cell_type": "code",
   "execution_count": null,
   "id": "e0285a21",
   "metadata": {},
   "outputs": [],
   "source": [
    "# procesador Vilt desde modelo preentrenado\n",
    "\n",
    "processor = ViltProcessor.from_pretrained('dandelin/vilt-b32-finetuned-vqa')"
   ]
  },
  {
   "cell_type": "code",
   "execution_count": null,
   "id": "6cc97ad2",
   "metadata": {},
   "outputs": [],
   "source": [
    "# modelo preentrenado\n",
    "\n",
    "model = ViltForQuestionAnswering.from_pretrained('dandelin/vilt-b32-finetuned-vqa')"
   ]
  },
  {
   "cell_type": "code",
   "execution_count": null,
   "id": "442c9cca",
   "metadata": {},
   "outputs": [],
   "source": [
    "# prepara las entradas \n",
    "\n",
    "encoding = processor(image, \n",
    "                     question, \n",
    "                     return_tensors='pt')\n"
   ]
  },
  {
   "cell_type": "code",
   "execution_count": null,
   "id": "9516471f",
   "metadata": {},
   "outputs": [],
   "source": [
    "# forward \n",
    "\n",
    "outputs = model(**encoding)\n",
    "\n",
    "logits = outputs.logits\n",
    "\n",
    "idx = logits.argmax(-1).item()"
   ]
  },
  {
   "cell_type": "code",
   "execution_count": null,
   "id": "4fb5a645",
   "metadata": {},
   "outputs": [],
   "source": [
    "# prediccion\n",
    "\n",
    "print(\"Predicted answer:\", model.config.id2label[idx])"
   ]
  },
  {
   "cell_type": "code",
   "execution_count": null,
   "id": "de4479e5",
   "metadata": {},
   "outputs": [],
   "source": []
  }
 ],
 "metadata": {
  "kernelspec": {
   "display_name": "virtual",
   "language": "python",
   "name": "virtual"
  },
  "language_info": {
   "codemirror_mode": {
    "name": "ipython",
    "version": 3
   },
   "file_extension": ".py",
   "mimetype": "text/x-python",
   "name": "python",
   "nbconvert_exporter": "python",
   "pygments_lexer": "ipython3",
   "version": "3.10.8"
  }
 },
 "nbformat": 4,
 "nbformat_minor": 5
}
